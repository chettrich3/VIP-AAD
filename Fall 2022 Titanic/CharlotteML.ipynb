{
 "cells": [
  {
   "cell_type": "code",
   "execution_count": 37,
   "id": "ef34a2f1",
   "metadata": {},
   "outputs": [],
   "source": [
    "import pandas as pd\n",
    "import numpy as np\n",
    "\n",
    "from sklearn.model_selection import KFold\n",
    "from sklearn.ensemble import RandomForestClassifier\n",
    "from sklearn.model_selection import cross_val_score\n",
    "from sklearn import svm\n",
    "from sklearn.metrics import confusion_matrix\n",
    "from sklearn.model_selection import cross_val_predict\n",
    "from sklearn.metrics import precision_score, recall_score\n",
    "from sklearn.ensemble import GradientBoostingClassifier\n",
    "from sklearn.linear_model import LogisticRegression\n",
    "from sklearn.ensemble import RandomForestClassifier\n",
    "from sklearn.linear_model import Perceptron\n",
    "from sklearn.linear_model import SGDClassifier\n",
    "from sklearn.tree import DecisionTreeClassifier\n",
    "from sklearn.neighbors import KNeighborsClassifier"
   ]
  },
  {
   "cell_type": "code",
   "execution_count": 29,
   "id": "d0c1bcc6",
   "metadata": {},
   "outputs": [],
   "source": [
    "# Read in our csv files downloaded from Kaggle\n",
    "train_data = pd.read_csv('train.csv')\n",
    "test_data = pd.read_csv('test.csv')"
   ]
  },
  {
   "cell_type": "code",
   "execution_count": 30,
   "id": "8499f989",
   "metadata": {},
   "outputs": [
    {
     "data": {
      "text/html": [
       "<div>\n",
       "<style scoped>\n",
       "    .dataframe tbody tr th:only-of-type {\n",
       "        vertical-align: middle;\n",
       "    }\n",
       "\n",
       "    .dataframe tbody tr th {\n",
       "        vertical-align: top;\n",
       "    }\n",
       "\n",
       "    .dataframe thead th {\n",
       "        text-align: right;\n",
       "    }\n",
       "</style>\n",
       "<table border=\"1\" class=\"dataframe\">\n",
       "  <thead>\n",
       "    <tr style=\"text-align: right;\">\n",
       "      <th></th>\n",
       "      <th>PassengerId</th>\n",
       "      <th>Survived</th>\n",
       "      <th>Pclass</th>\n",
       "      <th>Name</th>\n",
       "      <th>Sex</th>\n",
       "      <th>Age</th>\n",
       "      <th>SibSp</th>\n",
       "      <th>Parch</th>\n",
       "      <th>Ticket</th>\n",
       "      <th>Fare</th>\n",
       "      <th>Cabin</th>\n",
       "      <th>Embarked</th>\n",
       "    </tr>\n",
       "  </thead>\n",
       "  <tbody>\n",
       "    <tr>\n",
       "      <th>0</th>\n",
       "      <td>1</td>\n",
       "      <td>0</td>\n",
       "      <td>3</td>\n",
       "      <td>Braund, Mr. Owen Harris</td>\n",
       "      <td>male</td>\n",
       "      <td>22.0</td>\n",
       "      <td>1</td>\n",
       "      <td>0</td>\n",
       "      <td>A/5 21171</td>\n",
       "      <td>7.2500</td>\n",
       "      <td>NaN</td>\n",
       "      <td>S</td>\n",
       "    </tr>\n",
       "    <tr>\n",
       "      <th>1</th>\n",
       "      <td>2</td>\n",
       "      <td>1</td>\n",
       "      <td>1</td>\n",
       "      <td>Cumings, Mrs. John Bradley (Florence Briggs Th...</td>\n",
       "      <td>female</td>\n",
       "      <td>38.0</td>\n",
       "      <td>1</td>\n",
       "      <td>0</td>\n",
       "      <td>PC 17599</td>\n",
       "      <td>71.2833</td>\n",
       "      <td>C85</td>\n",
       "      <td>C</td>\n",
       "    </tr>\n",
       "    <tr>\n",
       "      <th>2</th>\n",
       "      <td>3</td>\n",
       "      <td>1</td>\n",
       "      <td>3</td>\n",
       "      <td>Heikkinen, Miss. Laina</td>\n",
       "      <td>female</td>\n",
       "      <td>26.0</td>\n",
       "      <td>0</td>\n",
       "      <td>0</td>\n",
       "      <td>STON/O2. 3101282</td>\n",
       "      <td>7.9250</td>\n",
       "      <td>NaN</td>\n",
       "      <td>S</td>\n",
       "    </tr>\n",
       "    <tr>\n",
       "      <th>3</th>\n",
       "      <td>4</td>\n",
       "      <td>1</td>\n",
       "      <td>1</td>\n",
       "      <td>Futrelle, Mrs. Jacques Heath (Lily May Peel)</td>\n",
       "      <td>female</td>\n",
       "      <td>35.0</td>\n",
       "      <td>1</td>\n",
       "      <td>0</td>\n",
       "      <td>113803</td>\n",
       "      <td>53.1000</td>\n",
       "      <td>C123</td>\n",
       "      <td>S</td>\n",
       "    </tr>\n",
       "    <tr>\n",
       "      <th>4</th>\n",
       "      <td>5</td>\n",
       "      <td>0</td>\n",
       "      <td>3</td>\n",
       "      <td>Allen, Mr. William Henry</td>\n",
       "      <td>male</td>\n",
       "      <td>35.0</td>\n",
       "      <td>0</td>\n",
       "      <td>0</td>\n",
       "      <td>373450</td>\n",
       "      <td>8.0500</td>\n",
       "      <td>NaN</td>\n",
       "      <td>S</td>\n",
       "    </tr>\n",
       "  </tbody>\n",
       "</table>\n",
       "</div>"
      ],
      "text/plain": [
       "   PassengerId  Survived  Pclass  \\\n",
       "0            1         0       3   \n",
       "1            2         1       1   \n",
       "2            3         1       3   \n",
       "3            4         1       1   \n",
       "4            5         0       3   \n",
       "\n",
       "                                                Name     Sex   Age  SibSp  \\\n",
       "0                            Braund, Mr. Owen Harris    male  22.0      1   \n",
       "1  Cumings, Mrs. John Bradley (Florence Briggs Th...  female  38.0      1   \n",
       "2                             Heikkinen, Miss. Laina  female  26.0      0   \n",
       "3       Futrelle, Mrs. Jacques Heath (Lily May Peel)  female  35.0      1   \n",
       "4                           Allen, Mr. William Henry    male  35.0      0   \n",
       "\n",
       "   Parch            Ticket     Fare Cabin Embarked  \n",
       "0      0         A/5 21171   7.2500   NaN        S  \n",
       "1      0          PC 17599  71.2833   C85        C  \n",
       "2      0  STON/O2. 3101282   7.9250   NaN        S  \n",
       "3      0            113803  53.1000  C123        S  \n",
       "4      0            373450   8.0500   NaN        S  "
      ]
     },
     "execution_count": 30,
     "metadata": {},
     "output_type": "execute_result"
    }
   ],
   "source": [
    "train_data.head()"
   ]
  },
  {
   "cell_type": "code",
   "execution_count": 31,
   "id": "1ea2ebbe",
   "metadata": {},
   "outputs": [],
   "source": [
    "train_data.drop(columns=['Name', 'Ticket', 'Cabin'], inplace=True) # drop Name, Ticket, Cabin columns\n",
    "train_data.set_index(keys=['PassengerId'], drop=True, inplace=True) # replace index with PassengerId\n",
    "\n",
    "test_data.drop(columns=['Name', 'Ticket', 'Cabin'], inplace=True)\n",
    "test_data.set_index(keys=['PassengerId'], drop=True, inplace=True)\n",
    "\n",
    "train_nan_map = {'Age': train_data['Age'].mean(), 'Fare': train_data['Fare'].mean(), 'Embarked': train_data['Embarked'].mode()[0]}\n",
    "test_nan_map = {'Age': test_data['Age'].mean(), 'Fare': test_data['Fare'].mean(), 'Embarked': test_data['Embarked'].mode()[0]}\n",
    "\n",
    "train_data.fillna(value=train_nan_map, inplace=True)\n",
    "test_data.fillna(value=test_nan_map, inplace=True)\n",
    "\n",
    "columns_map = {'Embarked': {'C': 0, 'Q': 1, 'S': 2}, 'Sex': {'male': 0, 'female': 1}}\n",
    "train_data.replace(columns_map, inplace=True)\n",
    "test_data.replace(columns_map, inplace=True)"
   ]
  },
  {
   "cell_type": "code",
   "execution_count": 17,
   "id": "f3a95101",
   "metadata": {},
   "outputs": [
    {
     "name": "stdout",
     "output_type": "stream",
     "text": [
      "             Pclass  Sex   Age  SibSp  Parch     Fare  Embarked\n",
      "PassengerId                                                    \n",
      "1                 3    0  22.0      1      0   7.2500         2\n",
      "2                 1    1  38.0      1      0  71.2833         0\n",
      "3                 3    1  26.0      0      0   7.9250         2\n",
      "4                 1    1  35.0      1      0  53.1000         2\n",
      "5                 3    0  35.0      0      0   8.0500         2\n",
      "PassengerId\n",
      "1    0\n",
      "2    1\n",
      "3    1\n",
      "4    1\n",
      "5    0\n",
      "Name: Survived, dtype: int64\n"
     ]
    }
   ],
   "source": [
    "X_train_split = train_data.loc[:, train_data.columns != 'Survived']\n",
    "y_train_split = train_data.loc[:, 'Survived']\n",
    "\n",
    "print(X_train_split.head())\n",
    "print(y_train_split.head())"
   ]
  },
  {
   "cell_type": "code",
   "execution_count": 27,
   "id": "2b0cacc1",
   "metadata": {},
   "outputs": [
    {
     "name": "stdout",
     "output_type": "stream",
     "text": [
      "FPR: 0.15384615384615385 FNR: 0.22580645161290322\n",
      "FPR: 0.14285714285714285 FNR: 0.30303030303030304\n",
      "FPR: 0.1792452830188679 FNR: 0.19444444444444445\n",
      "FPR: 0.1388888888888889 FNR: 0.38571428571428573\n",
      "FPR: 0.1320754716981132 FNR: 0.25\n",
      "Average FPR: 0.14938258806183335 Average FNR: 0.2717990969603873\n"
     ]
    }
   ],
   "source": [
    "# NOT USED\n",
    "kf = KFold(n_splits=5, shuffle=True, random_state=10)\n",
    "model = RandomForestClassifier()\n",
    "\n",
    "avg_fpr = 0\n",
    "avg_fnr = 0\n",
    "\n",
    "for train_index, test_index in kf.split(X_train_split):\n",
    "    X_train, X_test = X_train_split.iloc[train_index,:], X_train_split.iloc[test_index,:]\n",
    "    y_train, y_test = y_train_split.iloc[train_index], y_train_split.iloc[test_index]\n",
    "\n",
    "    model.fit(X_train, y_train)\n",
    "    y_pred = model.predict(X_test)\n",
    "    tn, fp, fn, tp = confusion_matrix(y_test, y_pred).ravel()\n",
    "    \n",
    "    fpr = fp / (fp + tn)\n",
    "    fnr = fn / (fn + tp)\n",
    "    \n",
    "    avg_fpr += fpr / 5\n",
    "    avg_fnr += fnr / 5\n",
    "    \n",
    "    print(f\"FPR: {fpr}\", f\"FNR: {fnr}\")\n",
    "    \n",
    "print(f\"Average FPR: {avg_fpr}\", f\"Average FNR: {avg_fnr}\")"
   ]
  },
  {
   "cell_type": "code",
   "execution_count": 36,
   "id": "c6e7ae48",
   "metadata": {},
   "outputs": [
    {
     "name": "stdout",
     "output_type": "stream",
     "text": [
      "FPR: 0.1111111111111111 FNR: 0.24193548387096775\n",
      "FPR: 0.13392857142857142 FNR: 0.30303030303030304\n",
      "FPR: 0.14150943396226415 FNR: 0.2361111111111111\n",
      "FPR: 0.09259259259259259 FNR: 0.4\n",
      "FPR: 0.09433962264150944 FNR: 0.2916666666666667\n",
      "Average FPR: 0.11469626634720972 Average FNR: 0.29454871293580975\n"
     ]
    }
   ],
   "source": [
    "# NOT USED\n",
    "kf = KFold(n_splits=5, shuffle=True, random_state=10)\n",
    "model = GradientBoostingClassifier()\n",
    "\n",
    "avg_fpr = 0\n",
    "avg_fnr = 0\n",
    "\n",
    "for train_index, test_index in kf.split(X_train_split):\n",
    "    X_train, X_test = X_train_split.iloc[train_index,:], X_train_split.iloc[test_index,:]\n",
    "    y_train, y_test = y_train_split.iloc[train_index], y_train_split.iloc[test_index]\n",
    "\n",
    "    model.fit(X_train, y_train)\n",
    "    y_pred = model.predict(X_test)\n",
    "    tn, fp, fn, tp = confusion_matrix(y_test, y_pred).ravel()\n",
    "    \n",
    "    fpr = fp / (fp + tn)\n",
    "    fnr = fn / (fn + tp)\n",
    "    \n",
    "    avg_fpr += fpr / 5\n",
    "    avg_fnr += fnr / 5\n",
    "    \n",
    "    print(f\"FPR: {fpr}\", f\"FNR: {fnr}\")\n",
    "    \n",
    "print(f\"Average FPR: {avg_fpr}\", f\"Average FNR: {avg_fnr}\")"
   ]
  },
  {
   "cell_type": "code",
   "execution_count": 39,
   "id": "4bb619f0",
   "metadata": {},
   "outputs": [
    {
     "name": "stdout",
     "output_type": "stream",
     "text": [
      "FPR: 0.11965811965811966 FNR: 0.4032258064516129\n",
      "FPR: 0.7767857142857143 FNR: 0.5151515151515151\n",
      "FPR: 0.05660377358490566 FNR: 0.6388888888888888\n",
      "FPR: 0.046296296296296294 FNR: 0.7714285714285715\n",
      "FPR: 0.25471698113207547 FNR: 0.2361111111111111\n",
      "Average FPR: 0.2508121769914223 Average FNR: 0.5129611786063399\n"
     ]
    }
   ],
   "source": [
    "# NOT USED\n",
    "kf = KFold(n_splits=5, shuffle=True, random_state=10)\n",
    "model = SGDClassifier(max_iter=5, tol=None)\n",
    "\n",
    "avg_fpr = 0\n",
    "avg_fnr = 0\n",
    "\n",
    "for train_index, test_index in kf.split(X_train_split):\n",
    "    X_train, X_test = X_train_split.iloc[train_index,:], X_train_split.iloc[test_index,:]\n",
    "    y_train, y_test = y_train_split.iloc[train_index], y_train_split.iloc[test_index]\n",
    "\n",
    "    model.fit(X_train, y_train)\n",
    "    y_pred = model.predict(X_test)\n",
    "    tn, fp, fn, tp = confusion_matrix(y_test, y_pred).ravel()\n",
    "    \n",
    "    fpr = fp / (fp + tn)\n",
    "    fnr = fn / (fn + tp)\n",
    "    \n",
    "    avg_fpr += fpr / 5\n",
    "    avg_fnr += fnr / 5\n",
    "    \n",
    "    print(f\"FPR: {fpr}\", f\"FNR: {fnr}\")\n",
    "    \n",
    "print(f\"Average FPR: {avg_fpr}\", f\"Average FNR: {avg_fnr}\")"
   ]
  },
  {
   "cell_type": "code",
   "execution_count": 46,
   "id": "f4937732",
   "metadata": {},
   "outputs": [
    {
     "name": "stdout",
     "output_type": "stream",
     "text": [
      "FPR: 0.0 FNR: 1.0\n",
      "FPR: 0.0 FNR: 1.0\n",
      "FPR: 0.22641509433962265 FNR: 0.5\n",
      "FPR: 0.0 FNR: 1.0\n",
      "FPR: 0.1320754716981132 FNR: 0.5833333333333334\n",
      "Average FPR: 0.07169811320754718 Average FNR: 0.8166666666666667\n"
     ]
    },
    {
     "name": "stderr",
     "output_type": "stream",
     "text": [
      "/Users/chettrich/opt/anaconda3/lib/python3.9/site-packages/sklearn/linear_model/_stochastic_gradient.py:574: ConvergenceWarning: Maximum number of iteration reached before convergence. Consider increasing max_iter to improve the fit.\n",
      "  warnings.warn(\"Maximum number of iteration reached before \"\n",
      "/Users/chettrich/opt/anaconda3/lib/python3.9/site-packages/sklearn/linear_model/_stochastic_gradient.py:574: ConvergenceWarning: Maximum number of iteration reached before convergence. Consider increasing max_iter to improve the fit.\n",
      "  warnings.warn(\"Maximum number of iteration reached before \"\n",
      "/Users/chettrich/opt/anaconda3/lib/python3.9/site-packages/sklearn/linear_model/_stochastic_gradient.py:574: ConvergenceWarning: Maximum number of iteration reached before convergence. Consider increasing max_iter to improve the fit.\n",
      "  warnings.warn(\"Maximum number of iteration reached before \"\n",
      "/Users/chettrich/opt/anaconda3/lib/python3.9/site-packages/sklearn/linear_model/_stochastic_gradient.py:574: ConvergenceWarning: Maximum number of iteration reached before convergence. Consider increasing max_iter to improve the fit.\n",
      "  warnings.warn(\"Maximum number of iteration reached before \"\n",
      "/Users/chettrich/opt/anaconda3/lib/python3.9/site-packages/sklearn/linear_model/_stochastic_gradient.py:574: ConvergenceWarning: Maximum number of iteration reached before convergence. Consider increasing max_iter to improve the fit.\n",
      "  warnings.warn(\"Maximum number of iteration reached before \"\n"
     ]
    }
   ],
   "source": [
    "# USED\n",
    "kf = KFold(n_splits=5, shuffle=True, random_state=10)\n",
    "model = Perceptron(max_iter=5)\n",
    "\n",
    "avg_fpr = 0\n",
    "avg_fnr = 0\n",
    "\n",
    "for train_index, test_index in kf.split(X_train_split):\n",
    "    X_train, X_test = X_train_split.iloc[train_index,:], X_train_split.iloc[test_index,:]\n",
    "    y_train, y_test = y_train_split.iloc[train_index], y_train_split.iloc[test_index]\n",
    "\n",
    "    model.fit(X_train, y_train)\n",
    "    y_pred = model.predict(X_test)\n",
    "    tn, fp, fn, tp = confusion_matrix(y_test, y_pred).ravel()\n",
    "    \n",
    "    fpr = fp / (fp + tn)\n",
    "    fnr = fn / (fn + tp)\n",
    "    \n",
    "    avg_fpr += fpr / 5\n",
    "    avg_fnr += fnr / 5\n",
    "    \n",
    "    print(f\"FPR: {fpr}\", f\"FNR: {fnr}\")\n",
    "    \n",
    "print(f\"Average FPR: {avg_fpr}\", f\"Average FNR: {avg_fnr}\")"
   ]
  },
  {
   "cell_type": "code",
   "execution_count": 47,
   "id": "fd9e6f25",
   "metadata": {},
   "outputs": [],
   "source": [
    "test_predictions = model.predict(test_data)\n",
    "output = pd.DataFrame({\"PassengerID\": test_data.index, \"Survived\": test_predictions})\n",
    "output.to_csv(\"submission.csv\", index = False)"
   ]
  },
  {
   "cell_type": "code",
   "execution_count": 8,
   "id": "bb8d9c63",
   "metadata": {},
   "outputs": [
    {
     "name": "stdout",
     "output_type": "stream",
     "text": [
      "98.46 %\n"
     ]
    },
    {
     "data": {
      "text/plain": [
       "array([0, 1, 0, 1, 0, 1, 0, 1, 1, 1, 0, 0, 0, 0, 0, 1, 0, 0, 1, 0, 0, 0,\n",
       "       0, 0, 1, 0, 1, 0, 0, 0, 1, 0, 0, 0, 0, 0, 0, 0, 1, 0, 0, 0, 0, 1,\n",
       "       0, 1, 0, 1, 0, 0, 1, 0, 0, 0, 0, 1, 0, 1, 0, 0, 1, 0, 1, 1, 0, 0,\n",
       "       0, 1, 1, 0, 0, 1, 1, 1, 0, 0, 0, 0, 1, 1, 0, 0, 0, 1, 0, 1, 0, 0,\n",
       "       0, 0, 0, 0, 0, 1, 0, 0, 1, 1, 1, 1, 0, 1, 1, 0, 1, 1, 0, 1, 0, 0,\n",
       "       0, 1, 0, 1, 0, 0, 1, 0, 0, 1, 1, 0, 1, 0, 0, 1, 0, 0, 1, 0, 1, 0,\n",
       "       0, 0, 1, 0, 0, 1, 0, 1, 0, 1, 1, 0, 0, 0, 0, 0, 1, 0, 1, 1, 0, 0,\n",
       "       1, 0, 0, 1, 0, 1, 0, 1, 0, 0, 1, 0, 1, 0, 0, 1, 1, 0, 0, 1, 1, 1,\n",
       "       0, 0])"
      ]
     },
     "execution_count": 8,
     "metadata": {},
     "output_type": "execute_result"
    }
   ],
   "source": [
    "# Random Forest\n",
    "random_forest = RandomForestClassifier(n_estimators = 100, oob_score = True)\n",
    "random_forest.fit(X_train.values, y_train.values)\n",
    "y_pred = random_forest.predict(X_test.values)\n",
    "y_truth = y_test.values\n",
    "\n",
    "random_forest.score(X_train.values, y_train.values)\n",
    "\n",
    "acc_random_forest = round(random_forest.score(X_train.values, y_train.values) * 100, 2)\n",
    "print(round(acc_random_forest,2,), \"%\")\n",
    "y_pred"
   ]
  },
  {
   "cell_type": "code",
   "execution_count": 9,
   "id": "88cfe600",
   "metadata": {},
   "outputs": [
    {
     "name": "stdout",
     "output_type": "stream",
     "text": [
      "oob score: 80.36 %\n"
     ]
    }
   ],
   "source": [
    "# OOB Score is the out-of-bag samples to estimate the generalization accuracy.\n",
    "print(\"oob score:\", round(random_forest.oob_score_, 4)*100, \"%\")"
   ]
  },
  {
   "cell_type": "code",
   "execution_count": 10,
   "id": "5dc854fa",
   "metadata": {},
   "outputs": [
    {
     "name": "stdout",
     "output_type": "stream",
     "text": [
      "Scores: [0.79166667 0.73611111 0.75       0.83098592 0.83098592 0.8028169\n",
      " 0.83098592 0.77464789 0.84507042 0.83098592]\n",
      "Mean: 0.8024256651017214\n",
      "Standard Deviation: 0.036214515639419895\n"
     ]
    }
   ],
   "source": [
    "rf = RandomForestClassifier(n_estimators=100)\n",
    "scores = cross_val_score(rf, X_train.values, y_train.values, cv=10, scoring = \"accuracy\")\n",
    "print(\"Scores:\", scores)\n",
    "print(\"Mean:\", scores.mean())\n",
    "print(\"Standard Deviation:\", scores.std())"
   ]
  },
  {
   "cell_type": "code",
   "execution_count": 11,
   "id": "59dcf076",
   "metadata": {},
   "outputs": [],
   "source": [
    "# # Support Vector Machine\n",
    "# svm_clf = svm.SVC(kernel='linear')\n",
    "# svm_clf.fit(X_train.values, y_train.values)\n",
    "# print(svm_clf.score(X_test.values, y_test.values))\n",
    "# y_pred = svm_clf.predict(X_test.values)\n",
    "# y_truth = y_test.values\n",
    "# y_pred"
   ]
  },
  {
   "cell_type": "code",
   "execution_count": 12,
   "id": "67dc1979",
   "metadata": {},
   "outputs": [
    {
     "name": "stdout",
     "output_type": "stream",
     "text": [
      "Confusion Matrix\n",
      "[[381  62]\n",
      " [ 84 186]]\n",
      "\n",
      "True Negatives 381\n",
      "False Positives 62\n",
      "False Negatives 84\n",
      "True Positives 186\n",
      "0.1399548532731377\n",
      "0.3111111111111111\n"
     ]
    }
   ],
   "source": [
    "predictions = cross_val_predict(random_forest, X_train, y_train, cv=3)\n",
    "predictions\n",
    "confusion_matrix(y_train, predictions)\n",
    "tn, fp, fn, tp = confusion_matrix(y_train, predictions).ravel()\n",
    "print(\"Confusion Matrix\")\n",
    "print(confusion_matrix(y_train, predictions, labels=[0, 1]))\n",
    "print(\"\")\n",
    "print(\"True Negatives\", tn)\n",
    "print(\"False Positives\", fp)\n",
    "print(\"False Negatives\", fn)\n",
    "print(\"True Positives\", tp)\n",
    "fpr = fp/(fp + tn)\n",
    "fnr = fn/(fn + tp)\n",
    "print(fpr)\n",
    "print(fnr)"
   ]
  },
  {
   "cell_type": "code",
   "execution_count": 40,
   "id": "a771c3e3",
   "metadata": {},
   "outputs": [
    {
     "name": "stdout",
     "output_type": "stream",
     "text": [
      "Precision: 0.744\n",
      "Recall: 0.6888888888888889\n"
     ]
    }
   ],
   "source": [
    "print(\"Precision:\", precision_score(y_train, predictions))\n",
    "print(\"Recall:\",recall_score(y_train, predictions))"
   ]
  },
  {
   "cell_type": "code",
   "execution_count": 48,
   "id": "b27664b6",
   "metadata": {},
   "outputs": [
    {
     "name": "stdout",
     "output_type": "stream",
     "text": [
      "Confusion matrix, without normalization\n",
      "[[381  62]\n",
      " [ 84 186]]\n"
     ]
    },
    {
     "data": {
      "image/png": "[encoded data removed]",
      "text/plain": [
       "<Figure size 432x288 with 2 Axes>"
      ]
     },
     "metadata": {
      "needs_background": "light"
     },
     "output_type": "display_data"
    }
   ],
   "source": [
    "import itertools\n",
    "import matplotlib.pyplot as plt\n",
    "\n",
    "def plot_confusion_matrix(cm, classes,\n",
    "                          normalize=False,\n",
    "                          title='Confusion matrix',\n",
    "                          cmap=plt.cm.Blues):\n",
    "    \"\"\"\n",
    "    This function prints and plots the confusion matrix.\n",
    "    Normalization can be applied by setting `normalize=True`.\n",
    "    \"\"\"\n",
    "    if normalize:\n",
    "        cm = cm.astype('float') / cm.sum(axis=1)[:, np.newaxis]\n",
    "        print(\"Normalized confusion matrix\")\n",
    "    else:\n",
    "        print('Confusion matrix, without normalization')\n",
    "\n",
    "    print(cm)\n",
    "\n",
    "    plt.imshow(cm, interpolation='nearest', cmap=cmap)\n",
    "    plt.title(title)\n",
    "    plt.colorbar()\n",
    "    tick_marks = np.arange(len(classes))\n",
    "    plt.xticks(tick_marks, classes, rotation=45)\n",
    "    plt.yticks(tick_marks, classes)\n",
    "\n",
    "    fmt = '.2f' if normalize else 'd'\n",
    "    thresh = cm.max() / 2.\n",
    "    for i, j in itertools.product(range(cm.shape[0]), range(cm.shape[1])):\n",
    "        plt.text(j, i, format(cm[i, j], fmt),\n",
    "                 horizontalalignment=\"center\",\n",
    "                 color=\"white\" if cm[i, j] > thresh else \"black\")\n",
    "\n",
    "    plt.ylabel('True label')\n",
    "    plt.xlabel('Predicted label')\n",
    "    plt.tight_layout()\n",
    "\n",
    "\n",
    "# Compute confusion matrix\n",
    "cnf_matrix = confusion_matrix(y_train, predictions)\n",
    "class_names=['0', '1']\n",
    "np.set_printoptions(precision=2)\n",
    "\n",
    "# Plot non-normalized confusion matrix\n",
    "plt.figure()\n",
    "plot_confusion_matrix(cnf_matrix, classes=class_names,\n",
    "                      title='Confusion matrix, without normalization')\n",
    "\n",
    "plt.show()"
   ]
  },
  {
   "cell_type": "code",
   "execution_count": 50,
   "id": "ad3fd944",
   "metadata": {},
   "outputs": [],
   "source": [
    "predictions = random_forest.predict(test_data.values)"
   ]
  },
  {
   "cell_type": "code",
   "execution_count": 51,
   "id": "b104740c",
   "metadata": {},
   "outputs": [
    {
     "data": {
      "text/plain": [
       "numpy.ndarray"
      ]
     },
     "execution_count": 51,
     "metadata": {},
     "output_type": "execute_result"
    }
   ],
   "source": [
    "type(predictions)"
   ]
  },
  {
   "cell_type": "code",
   "execution_count": 52,
   "id": "ed0ddf24",
   "metadata": {},
   "outputs": [
    {
     "data": {
      "text/plain": [
       "pandas.core.frame.DataFrame"
      ]
     },
     "execution_count": 52,
     "metadata": {},
     "output_type": "execute_result"
    }
   ],
   "source": [
    "pred_df = pd.DataFrame(predictions, index=test_data.index, columns=['Survived'])\n",
    "type(pred_df)"
   ]
  },
  {
   "cell_type": "code",
   "execution_count": 53,
   "id": "18bf7ff3",
   "metadata": {},
   "outputs": [],
   "source": [
    "pred_df.to_csv('random_forest_predictions.csv', header=True, sep=',')"
   ]
  },
  {
   "cell_type": "code",
   "execution_count": null,
   "id": "368bdd52",
   "metadata": {},
   "outputs": [],
   "source": []
  }
 ],
 "metadata": {
  "kernelspec": {
   "display_name": "Python 3 (ipykernel)",
   "language": "python",
   "name": "python3"
  },
  "language_info": {
   "codemirror_mode": {
    "name": "ipython",
    "version": 3
   },
   "file_extension": ".py",
   "mimetype": "text/x-python",
   "name": "python",
   "nbconvert_exporter": "python",
   "pygments_lexer": "ipython3",
   "version": "3.9.7"
  }
 },
 "nbformat": 4,
 "nbformat_minor": 5
}
